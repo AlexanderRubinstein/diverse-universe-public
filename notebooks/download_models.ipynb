{
 "cells": [
  {
   "cell_type": "markdown",
   "metadata": {},
   "source": [
    "# Imports"
   ]
  },
  {
   "cell_type": "code",
   "execution_count": 4,
   "metadata": {},
   "outputs": [],
   "source": [
    "import gdown\n",
    "import os"
   ]
  },
  {
   "cell_type": "markdown",
   "metadata": {},
   "source": [
    "# Functions"
   ]
  },
  {
   "cell_type": "code",
   "execution_count": null,
   "metadata": {},
   "outputs": [],
   "source": []
  },
  {
   "cell_type": "markdown",
   "metadata": {},
   "source": [
    "# Download models"
   ]
  },
  {
   "cell_type": "code",
   "execution_count": 7,
   "metadata": {},
   "outputs": [
    {
     "name": "stderr",
     "output_type": "stream",
     "text": [
      "Downloading...\n",
      "From (original): https://drive.google.com/uc?id=1uZ5fZ83IOHY4a2_yV3fBE1fsRznNoDW1\n",
      "From (redirected): https://drive.google.com/uc?id=1uZ5fZ83IOHY4a2_yV3fBE1fsRznNoDW1&confirm=t&uuid=a6e4287f-4db7-4251-b735-8e7e9ddcab42\n",
      "To: /mnt/lustre/work/oh/arubinstein17/github/diverse-universe-public/models/deit3b_budget_v2_lambda_0.5_manual_lambda_0.00E+00\n",
      "100%|██████████| 330M/330M [00:01<00:00, 171MB/s] \n"
     ]
    }
   ],
   "source": [
    "model_url = \"https://drive.google.com/uc?id=1uZ5fZ83IOHY4a2_yV3fBE1fsRznNoDW1\"\n",
    "model_path = os.path.join(\"..\", \"models\", \"deit3b_budget_v2_lambda_0.5_manual_lambda_0.00E+00\")\n",
    "\n",
    "os.makedirs(os.path.dirname(model_path), exist_ok=True)\n",
    "if not os.path.exists(model_path):\n",
    "    gdown.download(\n",
    "        model_url,\n",
    "        model_path\n",
    "    )"
   ]
  }
 ],
 "metadata": {
  "kernelspec": {
   "display_name": "Python 3",
   "language": "python",
   "name": "python3"
  },
  "language_info": {
   "codemirror_mode": {
    "name": "ipython",
    "version": 3
   },
   "file_extension": ".py",
   "mimetype": "text/x-python",
   "name": "python",
   "nbconvert_exporter": "python",
   "pygments_lexer": "ipython3",
   "version": "3.10.4"
  }
 },
 "nbformat": 4,
 "nbformat_minor": 2
}
